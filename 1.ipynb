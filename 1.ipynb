import pandas as pd
import matplotlib.pyplot as plt

# Load your CSV file (replace 'your_dataset.csv' with the actual path or URL)
df = pd.read_csv('Employee.csv')

# Calculate average salary department-wise
average_salary_per_department = df.groupby('Department')['Salary'].mean().reset_index()

# Plotting Average Salary as a Bar Chart
plt.figure(figsize=(8, 8))
plt.bar(average_salary_per_department['Department'], average_salary_per_department['Salary'], color='skyblue')
plt.xlabel('Department')
plt.ylabel('Average Salary')
plt.title('Average Salary Department Wise (Bar Chart)')
plt.xticks(rotation=45, ha='right')
plt.show()

# Plotting Average Salary as a Pie Chart
plt.figure(figsize=(8, 8))
plt.pie(average_salary_per_department['Salary'], labels=average_salary_per_department['Department'], autopct='%1.1f%%', startangle=90)
plt.title('Average Salary Department Wise (Pie Chart)')
plt.show()

# Calculate median salary department-wise
median_salary_per_department = df.groupby('Department')['Salary'].median().reset_index()

# Plotting Median Salary as a Bar Chart
plt.figure(figsize=(8, 8))
plt.bar(median_salary_per_department['Department'], median_salary_per_department['Salary'], color='salmon')
plt.xlabel('Department')
plt.ylabel('Median Salary')
plt.title('Median Salary Department Wise (Bar Chart)')
plt.xticks(rotation=45, ha='right')
plt.show()

# Plotting Median Salary as a Pie Chart
plt.figure(figsize=(8, 8))
plt.pie(median_salary_per_department['Salary'], labels=median_salary_per_department['Department'], autopct='%1.1f%%', startangle=90)
plt.title('Median Salary Department Wise (Pie Chart)')
plt.show()

# Calculate minimum salary department-wise
min_salary_per_department = df.groupby('Department')['Salary'].min().reset_index()

# Plotting Minimum Salary as a Bar Chart
plt.figure(figsize=(8, 8))
plt.bar(min_salary_per_department['Department'], min_salary_per_department['Salary'], color='lightgreen')
plt.xlabel('Department')
plt.ylabel('Minimum Salary')
plt.title('Minimum Salary Department Wise (Bar Chart)')
plt.xticks(rotation=45, ha='right')
plt.show()

# Plotting Minimum Salary as a Pie Chart
plt.figure(figsize=(8, 8))
plt.pie(min_salary_per_department['Salary'], labels=min_salary_per_department['Department'], autopct='%1.1f%%', startangle=90)
plt.title('Minimum Salary Department Wise (Pie Chart)')
plt.show()

# Calculate maximum salary department-wise
max_salary_per_department = df.groupby('Department')['Salary'].max().reset_index()

# Plotting Maximum Salary as a Bar Chart
plt.figure(figsize=(8, 8))
plt.bar(max_salary_per_department['Department'], max_salary_per_department['Salary'], color='lightcoral')
plt.xlabel('Department')
plt.ylabel('Maximum Salary')
plt.title('Maximum Salary Department Wise (Bar Chart)')
plt.xticks(rotation=45, ha='right')
plt.show()

# Plotting Maximum Salary as a Pie Chart
plt.figure(figsize=(8, 8))
plt.pie(max_salary_per_department['Salary'], labels=max_salary_per_department['Department'], autopct='%1.1f%%', startangle=90)
plt.title('Maximum Salary Department Wise (Pie Chart)')
plt.show()
