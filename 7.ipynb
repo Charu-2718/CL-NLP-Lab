{
 "cells": [
  {
   "cell_type": "code",
   "execution_count": 9,
   "metadata": {},
   "outputs": [
    {
     "name": "stdout",
     "output_type": "stream",
     "text": [
      "The semantic similarity between the two sentences is: 0.8333333333333334\n"
     ]
    }
   ],
   "source": [
    "from nltk.corpus import wordnet as wn\n",
    "from nltk.corpus import brown\n",
    "\n",
    "# Initialize variables\n",
    "brown_freqs = dict()\n",
    "N = 0\n",
    "for word in brown.words():\n",
    "    if word not in brown_freqs:\n",
    "        brown_freqs[word] = brown_freqs.get(word, 0) + 1\n",
    "    N += 1\n",
    "\n",
    "def get_best_synset_pair(word_1, word_2):\n",
    "    \"\"\" \n",
    "    Choose the pair with highest path similarity among all pairs. \n",
    "    Mimics pattern-seeking behavior of humans.\n",
    "    \"\"\"\n",
    "    max_sim = -1.0\n",
    "    synsets_1 = wn.synsets(word_1)\n",
    "    synsets_2 = wn.synsets(word_2)\n",
    "    for synset_1 in synsets_1:\n",
    "        for synset_2 in synsets_2:\n",
    "            sim = synset_1.path_similarity(synset_2)\n",
    "            if sim is not None and sim > max_sim:\n",
    "                max_sim = sim\n",
    "    return max_sim\n",
    "\n",
    "def get_word_similarity(word_1, word_2):\n",
    "    \"\"\" \n",
    "    Calculate the semantic similarity between two words using WordNet.\n",
    "    \"\"\"\n",
    "    if word_1 == word_2:\n",
    "        return 1.0\n",
    "    best_sim = get_best_synset_pair(word_1, word_2)\n",
    "    if best_sim == -1.0:\n",
    "        return 0.0\n",
    "    return best_sim\n",
    "\n",
    "def get_sentence_similarity(sentence_1, sentence_2):\n",
    "    \"\"\" \n",
    "    Calculate the semantic similarity between two sentences using WordNet.\n",
    "    \"\"\"\n",
    "    words_1 = sentence_1.split()\n",
    "    words_2 = sentence_2.split()\n",
    "    similarity = 0.0\n",
    "    total_pairs = 0\n",
    "    for word_1 in words_1:\n",
    "        max_sim = 0.0\n",
    "        for word_2 in words_2:\n",
    "            sim = get_word_similarity(word_1, word_2)\n",
    "            if sim > max_sim:\n",
    "                max_sim = sim\n",
    "        similarity += max_sim\n",
    "        total_pairs += 1\n",
    "    if total_pairs == 0:\n",
    "        return 0.0\n",
    "    return similarity / total_pairs\n",
    "\n",
    "# Test the code\n",
    "sentence_1 = \"The dog is happy\"\n",
    "sentence_2 = \"The dog is excited\"\n",
    "similarity = get_sentence_similarity(sentence_1, sentence_2)\n",
    "print(\"The semantic similarity between the two sentences is:\", similarity)\n"
   ]
  },
  {
   "cell_type": "code",
   "execution_count": 10,
   "metadata": {},
   "outputs": [
    {
     "name": "stderr",
     "output_type": "stream",
     "text": [
      "[nltk_data] Downloading package wordnet to C:\\Users\\Charu\n",
      "[nltk_data]     Gupta\\AppData\\Roaming\\nltk_data...\n",
      "[nltk_data]   Package wordnet is already up-to-date!\n",
      "[nltk_data] Downloading package brown to C:\\Users\\Charu\n",
      "[nltk_data]     Gupta\\AppData\\Roaming\\nltk_data...\n",
      "[nltk_data]   Package brown is already up-to-date!\n"
     ]
    },
    {
     "ename": "AttributeError",
     "evalue": "'ConcatenatedCorpusView' object has no attribute 'items'",
     "output_type": "error",
     "traceback": [
      "\u001b[1;31m---------------------------------------------------------------------------\u001b[0m",
      "\u001b[1;31mAttributeError\u001b[0m                            Traceback (most recent call last)",
      "Cell \u001b[1;32mIn[10], line 12\u001b[0m\n\u001b[0;32m     10\u001b[0m brown_freqs \u001b[38;5;241m=\u001b[39m \u001b[38;5;28mdict\u001b[39m()\n\u001b[0;32m     11\u001b[0m N \u001b[38;5;241m=\u001b[39m \u001b[38;5;241m0\u001b[39m\n\u001b[1;32m---> 12\u001b[0m \u001b[38;5;28;01mfor\u001b[39;00m word, freq \u001b[38;5;129;01min\u001b[39;00m \u001b[43mbrown\u001b[49m\u001b[38;5;241;43m.\u001b[39;49m\u001b[43mwords\u001b[49m\u001b[43m(\u001b[49m\u001b[43m)\u001b[49m\u001b[38;5;241;43m.\u001b[39;49m\u001b[43mitems\u001b[49m():\n\u001b[0;32m     13\u001b[0m     \u001b[38;5;28;01mif\u001b[39;00m word \u001b[38;5;129;01mnot\u001b[39;00m \u001b[38;5;129;01min\u001b[39;00m brown_freqs:\n\u001b[0;32m     14\u001b[0m         brown_freqs[word] \u001b[38;5;241m=\u001b[39m freq\n",
      "\u001b[1;31mAttributeError\u001b[0m: 'ConcatenatedCorpusView' object has no attribute 'items'"
     ]
    }
   ],
   "source": [
    "import nltk\n",
    "from nltk.corpus import wordnet as wn\n",
    "from nltk.corpus import brown\n",
    "\n",
    "# Initialize variables\n",
    "nltk.download('wordnet')\n",
    "nltk.download('brown')\n",
    "\n",
    "brown_freqs = dict()\n",
    "N = 0\n",
    "for word in brown.words():\n",
    "    brown_freqs[word] = brown_freqs.get(word, 0) + 1\n",
    "    N += 1\n",
    "\n",
    "def get_best_synset_pair(word_1, word_2):\n",
    "    \"\"\" \n",
    "    Choose the pair with the highest path similarity among all pairs. \n",
    "    Mimics pattern-seeking behavior of humans.\n",
    "    \"\"\"\n",
    "    max_sim = -1.0\n",
    "    synsets_1 = wn.synsets(word_1)\n",
    "    synsets_2 = wn.synsets(word_2)\n",
    "    for synset_1 in synsets_1:\n",
    "        for synset_2 in synsets_2:\n",
    "            sim = synset_1.path_similarity(synset_2)\n",
    "            if sim is not None and sim > max_sim:\n",
    "                max_sim = sim\n",
    "    return max_sim\n",
    "\n",
    "def get_word_similarity(word_1, word_2):\n",
    "    \"\"\" \n",
    "    Calculate the semantic similarity between two words using WordNet.\n",
    "    \"\"\"\n",
    "    if word_1 == word_2:\n",
    "        return 1.0\n",
    "    best_sim = get_best_synset_pair(word_1, word_2)\n",
    "    if best_sim == -1.0:\n",
    "        return 0.0\n",
    "    return best_sim\n",
    "\n",
    "# Test the code\n",
    "word_1 = \"happy\"\n",
    "word_2 = \"excited\"\n",
    "similarity = get_word_similarity(word_1, word_2)\n",
    "print(\"The semantic similarity between the two words is:\", similarity)\n"
   ]
  }
 ],
 "metadata": {
  "kernelspec": {
   "display_name": "Python 3 (ipykernel)",
   "language": "python",
   "name": "python3"
  },
  "language_info": {
   "codemirror_mode": {
    "name": "ipython",
    "version": 3
   },
   "file_extension": ".py",
   "mimetype": "text/x-python",
   "name": "python",
   "nbconvert_exporter": "python",
   "pygments_lexer": "ipython3",
   "version": "3.11.4"
  }
 },
 "nbformat": 4,
 "nbformat_minor": 2
}
