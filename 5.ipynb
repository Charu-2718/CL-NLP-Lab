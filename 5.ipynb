{
  "nbformat": 4,
  "nbformat_minor": 0,
  "metadata": {
    "colab": {
      "provenance": []
    },
    "kernelspec": {
      "name": "python3",
      "display_name": "Python 3"
    },
    "language_info": {
      "name": "python"
    }
  },
  "cells": [
    {
      "cell_type": "code",
      "execution_count": 5,
      "metadata": {
        "colab": {
          "base_uri": "https://localhost:8080/"
        },
        "id": "FL3swUXZilh0",
        "outputId": "d2ecc805-ab56-410b-d49b-7bd56a8db92a"
      },
      "outputs": [
        {
          "output_type": "stream",
          "name": "stdout",
          "text": [
            "Noun Phrases saved to noun_phrases_output.txt\n"
          ]
        },
        {
          "output_type": "stream",
          "name": "stderr",
          "text": [
            "[nltk_data] Downloading package punkt to /root/nltk_data...\n",
            "[nltk_data]   Package punkt is already up-to-date!\n",
            "[nltk_data] Downloading package averaged_perceptron_tagger to\n",
            "[nltk_data]     /root/nltk_data...\n",
            "[nltk_data]   Package averaged_perceptron_tagger is already up-to-\n",
            "[nltk_data]       date!\n"
          ]
        }
      ],
      "source": [
        "import nltk\n",
        "from nltk import pos_tag, RegexpParser\n",
        "from nltk.tokenize import word_tokenize\n",
        "\n",
        "# Download NLTK resources (you only need to do this once)\n",
        "nltk.download('punkt')\n",
        "nltk.download('averaged_perceptron_tagger')\n",
        "\n",
        "# Function to extract noun phrases using chunking\n",
        "def extract_noun_phrases(sentence):\n",
        "    # Tokenize the sentence into words\n",
        "    words = word_tokenize(sentence)\n",
        "\n",
        "    # Part-of-speech tagging\n",
        "    tagged_words = pos_tag(words)\n",
        "\n",
        "    # Define a chunking grammar to capture noun phrases\n",
        "    grammar = r\"\"\"\n",
        "        NP: {<DT>?<JJ>*<NN>}   # NP: Noun Phrase\n",
        "    \"\"\"\n",
        "\n",
        "    # Create a chunk parser with the defined grammar\n",
        "    chunk_parser = RegexpParser(grammar)\n",
        "\n",
        "    # Apply chunking to the part-of-speech tagged words\n",
        "    chunks = chunk_parser.parse(tagged_words)\n",
        "\n",
        "    # Extract noun phrases from the chunked result\n",
        "    noun_phrases = []\n",
        "    for subtree in chunks.subtrees():\n",
        "        if subtree.label() == 'NP':\n",
        "            noun_phrases.append(\" \".join([word for word, tag in subtree.leaves()]))\n",
        "\n",
        "    return noun_phrases\n",
        "\n",
        "# Example usage\n",
        "sentence = \"\"\"King Krishnadevaraya loved horses and had the best collection of horse breeds in the Kingdom.\"\n",
        "    \"Well, one day, a trader came to the King and told him that he had brought with him a horse of the best breed in Arabia.\"\n",
        "    \"He invited the King to inspect the horse.\"\n",
        "    \" King Krishnadevaraya loved the horse; so the trader said that the King could buy this one and that he had two more like this one, back in Arabia that he would go back to get.\"\n",
        "    \" The King loved the horse so much that he had to have the other two as well. \"\n",
        "    \"He paid the trader 5000 gold coins in advance. The trader promised that he would return within two days with the other horses.\"\n",
        "    \"Two days turned into two weeks, and still, there was no sign of the trader and the two horses. \"\n",
        "    \"One evening, to ease his mind, the King went on a stroll in his garden. There he spotted Tenali Raman writing down something on a piece of paper.\"\n",
        "    \" Curious, the King asked Tenali what he was jotting down.Tenali Raman was hesitant, but after further questioning, he showed the King the paper. \"\n",
        "    \"On the paper was a list of names, the King’s being at the top of the list. Tenali said these were the names of the biggest fools in the Vijayanagara Kingdom!As expected, the King was furious that his name was at the top and asked Tenali Raman for an explanation. \"\n",
        "    \"Tenali referred to the horse story, saying the King was a fool to believe that the trader, a stranger, would return after receiving 5000 gold coins.\"\n",
        "    \"Countering his argument, the King then asked, what happens if/when the trader does come back? In true Tenali humour, he replied saying, in that case, the trader would be a bigger fool, and his name would replace the King’s on the list!\"\"\"\n",
        "\n",
        "result = extract_noun_phrases(sentence)\n",
        "\n",
        "# Save the results to a text file\n",
        "output_file_path = \"noun_phrases_output.txt\"\n",
        "with open(output_file_path, 'w') as output_file:\n",
        "    for phrase in result:\n",
        "        output_file.write(phrase + '\\n')\n",
        "\n",
        "print(f\"Noun Phrases saved to {output_file_path}\")\n"
      ]
    }
  ]
}