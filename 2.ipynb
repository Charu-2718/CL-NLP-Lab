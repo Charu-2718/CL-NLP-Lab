{
  "nbformat": 4,
  "nbformat_minor": 0,
  "metadata": {
    "colab": {
      "provenance": []
    },
    "kernelspec": {
      "name": "python3",
      "display_name": "Python 3"
    },
    "language_info": {
      "name": "python"
    }
  },
  "cells": [
    {
      "cell_type": "code",
      "source": [
        "import nltk\n",
        "from nltk.tokenize import sent_tokenize, word_tokenize\n",
        "from nltk.stem import WordNetLemmatizer, PorterStemmer\n",
        "from nltk.corpus import stopwords\n",
        "from nltk.stem import WordNetLemmatizer\n",
        "from nltk import pos_tag, download"
      ],
      "metadata": {
        "id": "mKXCL7TocjZI"
      },
      "execution_count": 43,
      "outputs": []
    },
    {
      "cell_type": "code",
      "source": [
        "# Download the required NLTK packages\n",
        "nltk.download('punkt')\n",
        "nltk.download('stopwords')\n",
        "nltk.download('wordnet')\n",
        "download('averaged_perceptron_tagger')"
      ],
      "metadata": {
        "colab": {
          "base_uri": "https://localhost:8080/"
        },
        "id": "P4HXS6XicleW",
        "outputId": "618c177a-f2d2-4f80-a0f2-2b38586ac04f"
      },
      "execution_count": 44,
      "outputs": [
        {
          "output_type": "stream",
          "name": "stderr",
          "text": [
            "[nltk_data] Downloading package punkt to /root/nltk_data...\n",
            "[nltk_data]   Package punkt is already up-to-date!\n",
            "[nltk_data] Downloading package stopwords to /root/nltk_data...\n",
            "[nltk_data]   Package stopwords is already up-to-date!\n",
            "[nltk_data] Downloading package wordnet to /root/nltk_data...\n",
            "[nltk_data]   Package wordnet is already up-to-date!\n",
            "[nltk_data] Downloading package averaged_perceptron_tagger to\n",
            "[nltk_data]     /root/nltk_data...\n",
            "[nltk_data]   Package averaged_perceptron_tagger is already up-to-\n",
            "[nltk_data]       date!\n"
          ]
        },
        {
          "output_type": "execute_result",
          "data": {
            "text/plain": [
              "True"
            ]
          },
          "metadata": {},
          "execution_count": 44
        }
      ]
    },
    {
      "cell_type": "code",
      "source": [
        "file_path = 'business_2.txt'\n",
        "with open(file_path, 'r', encoding='utf-8') as file:\n",
        "    text_content = file.read()\n"
      ],
      "metadata": {
        "id": "ZCzce03igzdT"
      },
      "execution_count": 45,
      "outputs": []
    },
    {
      "cell_type": "code",
      "source": [
        "def tokenize_sentences(text):\n",
        "    # Sentence Tokenization\n",
        "    sentences = sent_tokenize(text)\n",
        "    return sentences\n",
        "\n",
        "# Sentence Tokenization\n",
        "sentences = tokenize_sentences(text_content)\n",
        "print(\"Tokenized Sentences:\")\n",
        "print(sentences)"
      ],
      "metadata": {
        "id": "ZHV_8-jveZV-",
        "colab": {
          "base_uri": "https://localhost:8080/"
        },
        "outputId": "fecb3ed3-9899-48b4-ec0f-093e0d3b18ff"
      },
      "execution_count": 46,
      "outputs": [
        {
          "output_type": "stream",
          "name": "stdout",
          "text": [
            "Tokenized Sentences:\n",
            "['Japanese growth grinds to a halt\\n\\nGrowth in Japan evaporated in the three months to September, sparking renewed concern about an economy not long out of a decade-long trough.', 'Output in the period grew just 0.1%, an annual rate of 0.3%.', 'Exports - the usual engine of recovery - faltered, while domestic demand stayed subdued and corporate investment also fell short.', 'The growth falls well short of expectations, but does mark a sixth straight quarter of expansion.', 'The economy had stagnated throughout the 1990s, experiencing only brief spurts of expansion amid long periods in the doldrums.', 'One result was deflation - prices falling rather than rising - which made Japanese shoppers cautious and kept them from spending.', 'The effect was to leave the economy more dependent than ever on exports for its recent recovery.', 'But high oil prices have knocked 0.2% off the growth rate, while the falling dollar means products shipped to the US are becoming relatively more expensive.', 'The performance for the third quarter marks a sharp downturn from earlier in the year.', 'The first quarter showed annual growth of 6.3%, with the second showing 1.1%, and economists had been predicting as much as 2% this time around.', '\"Exports slowed while capital spending became weaker,\" said Hiromichi Shirakawa, chief economist at UBS Securities in Tokyo.', '\"Personal consumption looks good, but it was mainly due to temporary factors such as the Olympics.', '\"The amber light is flashing.\"', \"The government may now find it more difficult to raise taxes, a policy it will have to implement when the economy picks up to help deal with Japan's massive public debt.\"]\n"
          ]
        }
      ]
    },
    {
      "cell_type": "code",
      "source": [
        "def tokenize_text(text):\n",
        "    # Tokenization\n",
        "    words = word_tokenize(text)\n",
        "    return words\n",
        "# Tokenization\n",
        "tokenized_text = tokenize_text(text_content)\n",
        "print(\"Tokenized Text:\")\n",
        "print(tokenized_text)"
      ],
      "metadata": {
        "id": "m_RA6yesdwyg",
        "colab": {
          "base_uri": "https://localhost:8080/"
        },
        "outputId": "67cc870a-d1a3-419a-910f-a5db7f33fd95"
      },
      "execution_count": 47,
      "outputs": [
        {
          "output_type": "stream",
          "name": "stdout",
          "text": [
            "Tokenized Text:\n",
            "['Japanese', 'growth', 'grinds', 'to', 'a', 'halt', 'Growth', 'in', 'Japan', 'evaporated', 'in', 'the', 'three', 'months', 'to', 'September', ',', 'sparking', 'renewed', 'concern', 'about', 'an', 'economy', 'not', 'long', 'out', 'of', 'a', 'decade-long', 'trough', '.', 'Output', 'in', 'the', 'period', 'grew', 'just', '0.1', '%', ',', 'an', 'annual', 'rate', 'of', '0.3', '%', '.', 'Exports', '-', 'the', 'usual', 'engine', 'of', 'recovery', '-', 'faltered', ',', 'while', 'domestic', 'demand', 'stayed', 'subdued', 'and', 'corporate', 'investment', 'also', 'fell', 'short', '.', 'The', 'growth', 'falls', 'well', 'short', 'of', 'expectations', ',', 'but', 'does', 'mark', 'a', 'sixth', 'straight', 'quarter', 'of', 'expansion', '.', 'The', 'economy', 'had', 'stagnated', 'throughout', 'the', '1990s', ',', 'experiencing', 'only', 'brief', 'spurts', 'of', 'expansion', 'amid', 'long', 'periods', 'in', 'the', 'doldrums', '.', 'One', 'result', 'was', 'deflation', '-', 'prices', 'falling', 'rather', 'than', 'rising', '-', 'which', 'made', 'Japanese', 'shoppers', 'cautious', 'and', 'kept', 'them', 'from', 'spending', '.', 'The', 'effect', 'was', 'to', 'leave', 'the', 'economy', 'more', 'dependent', 'than', 'ever', 'on', 'exports', 'for', 'its', 'recent', 'recovery', '.', 'But', 'high', 'oil', 'prices', 'have', 'knocked', '0.2', '%', 'off', 'the', 'growth', 'rate', ',', 'while', 'the', 'falling', 'dollar', 'means', 'products', 'shipped', 'to', 'the', 'US', 'are', 'becoming', 'relatively', 'more', 'expensive', '.', 'The', 'performance', 'for', 'the', 'third', 'quarter', 'marks', 'a', 'sharp', 'downturn', 'from', 'earlier', 'in', 'the', 'year', '.', 'The', 'first', 'quarter', 'showed', 'annual', 'growth', 'of', '6.3', '%', ',', 'with', 'the', 'second', 'showing', '1.1', '%', ',', 'and', 'economists', 'had', 'been', 'predicting', 'as', 'much', 'as', '2', '%', 'this', 'time', 'around', '.', '``', 'Exports', 'slowed', 'while', 'capital', 'spending', 'became', 'weaker', ',', \"''\", 'said', 'Hiromichi', 'Shirakawa', ',', 'chief', 'economist', 'at', 'UBS', 'Securities', 'in', 'Tokyo', '.', '``', 'Personal', 'consumption', 'looks', 'good', ',', 'but', 'it', 'was', 'mainly', 'due', 'to', 'temporary', 'factors', 'such', 'as', 'the', 'Olympics', '.', '``', 'The', 'amber', 'light', 'is', 'flashing', '.', \"''\", 'The', 'government', 'may', 'now', 'find', 'it', 'more', 'difficult', 'to', 'raise', 'taxes', ',', 'a', 'policy', 'it', 'will', 'have', 'to', 'implement', 'when', 'the', 'economy', 'picks', 'up', 'to', 'help', 'deal', 'with', 'Japan', \"'s\", 'massive', 'public', 'debt', '.']\n"
          ]
        }
      ]
    },
    {
      "cell_type": "code",
      "source": [
        "def remove_stopwords(words):\n",
        "    # Remove stopwords\n",
        "    stop_words = set(stopwords.words('english'))\n",
        "    filtered_words = [word for word in words if word.lower() not in stop_words]\n",
        "    return filtered_words\n",
        "\n",
        "\n",
        "# Remove stopwords\n",
        "filtered_text = remove_stopwords(tokenized_text)\n",
        "print(\"\\nText after Stopword Removal:\")\n",
        "print(filtered_text)\n"
      ],
      "metadata": {
        "id": "WhVFDzyjdzFY",
        "colab": {
          "base_uri": "https://localhost:8080/"
        },
        "outputId": "8d3b25a2-62eb-4964-e8a5-fb90459511f4"
      },
      "execution_count": 39,
      "outputs": [
        {
          "output_type": "stream",
          "name": "stdout",
          "text": [
            "\n",
            "Text after Stopword Removal:\n",
            "['Japanese', 'growth', 'grinds', 'halt', 'Growth', 'Japan', 'evaporated', 'three', 'months', 'September', ',', 'sparking', 'renewed', 'concern', 'economy', 'long', 'decade-long', 'trough', '.', 'Output', 'period', 'grew', '0.1', '%', ',', 'annual', 'rate', '0.3', '%', '.', 'Exports', '-', 'usual', 'engine', 'recovery', '-', 'faltered', ',', 'domestic', 'demand', 'stayed', 'subdued', 'corporate', 'investment', 'also', 'fell', 'short', '.', 'growth', 'falls', 'well', 'short', 'expectations', ',', 'mark', 'sixth', 'straight', 'quarter', 'expansion', '.', 'economy', 'stagnated', 'throughout', '1990s', ',', 'experiencing', 'brief', 'spurts', 'expansion', 'amid', 'long', 'periods', 'doldrums', '.', 'One', 'result', 'deflation', '-', 'prices', 'falling', 'rather', 'rising', '-', 'made', 'Japanese', 'shoppers', 'cautious', 'kept', 'spending', '.', 'effect', 'leave', 'economy', 'dependent', 'ever', 'exports', 'recent', 'recovery', '.', 'high', 'oil', 'prices', 'knocked', '0.2', '%', 'growth', 'rate', ',', 'falling', 'dollar', 'means', 'products', 'shipped', 'US', 'becoming', 'relatively', 'expensive', '.', 'performance', 'third', 'quarter', 'marks', 'sharp', 'downturn', 'earlier', 'year', '.', 'first', 'quarter', 'showed', 'annual', 'growth', '6.3', '%', ',', 'second', 'showing', '1.1', '%', ',', 'economists', 'predicting', 'much', '2', '%', 'time', 'around', '.', '``', 'Exports', 'slowed', 'capital', 'spending', 'became', 'weaker', ',', \"''\", 'said', 'Hiromichi', 'Shirakawa', ',', 'chief', 'economist', 'UBS', 'Securities', 'Tokyo', '.', '``', 'Personal', 'consumption', 'looks', 'good', ',', 'mainly', 'due', 'temporary', 'factors', 'Olympics', '.', '``', 'amber', 'light', 'flashing', '.', \"''\", 'government', 'may', 'find', 'difficult', 'raise', 'taxes', ',', 'policy', 'implement', 'economy', 'picks', 'help', 'deal', 'Japan', \"'s\", 'massive', 'public', 'debt', '.']\n"
          ]
        }
      ]
    },
    {
      "cell_type": "code",
      "source": [
        "def stem_words(words):\n",
        "    # Stemming\n",
        "    stemmer = PorterStemmer()\n",
        "    stemmed_words = [stemmer.stem(word) for word in words]\n",
        "    return stemmed_words\n",
        "stemmed_words = stem_words(lemmatized_words)\n",
        "print(stemmed_words)"
      ],
      "metadata": {
        "colab": {
          "base_uri": "https://localhost:8080/"
        },
        "id": "SztZuCYqfg_5",
        "outputId": "4287abab-9495-4d21-8b90-1ba602f9719f"
      },
      "execution_count": 36,
      "outputs": [
        {
          "output_type": "stream",
          "name": "stdout",
          "text": [
            "['govern', 'may', 'find', 'difficult', 'rais', 'tax', ',', 'polici', 'implement', 'economi', 'pick', 'help', 'deal', 'japan', \"'s\", 'massiv', 'public', 'debt', '.']\n"
          ]
        }
      ]
    },
    {
      "cell_type": "code",
      "source": [
        "def lemmatize_words(words):\n",
        "    # Lemmatization\n",
        "    lemmatizer = WordNetLemmatizer()\n",
        "    lemmatized_words = [lemmatizer.lemmatize(word) for word in words]\n",
        "    return lemmatized_words\n",
        "\n",
        "# Lemmatization\n",
        "lemmatized_text = lemmatize_words(filtered_text)\n",
        "print(\"\\nLemmatized Text:\")\n",
        "print(lemmatized_text)"
      ],
      "metadata": {
        "id": "n_9CkvFzd0-U",
        "colab": {
          "base_uri": "https://localhost:8080/"
        },
        "outputId": "fe4bea16-4fe8-45b1-af40-d1f81f501ab6"
      },
      "execution_count": 41,
      "outputs": [
        {
          "output_type": "stream",
          "name": "stdout",
          "text": [
            "\n",
            "Lemmatized Text:\n",
            "['Japanese', 'growth', 'grind', 'halt', 'Growth', 'Japan', 'evaporated', 'three', 'month', 'September', ',', 'sparking', 'renewed', 'concern', 'economy', 'long', 'decade-long', 'trough', '.', 'Output', 'period', 'grew', '0.1', '%', ',', 'annual', 'rate', '0.3', '%', '.', 'Exports', '-', 'usual', 'engine', 'recovery', '-', 'faltered', ',', 'domestic', 'demand', 'stayed', 'subdued', 'corporate', 'investment', 'also', 'fell', 'short', '.', 'growth', 'fall', 'well', 'short', 'expectation', ',', 'mark', 'sixth', 'straight', 'quarter', 'expansion', '.', 'economy', 'stagnated', 'throughout', '1990s', ',', 'experiencing', 'brief', 'spurt', 'expansion', 'amid', 'long', 'period', 'doldrums', '.', 'One', 'result', 'deflation', '-', 'price', 'falling', 'rather', 'rising', '-', 'made', 'Japanese', 'shopper', 'cautious', 'kept', 'spending', '.', 'effect', 'leave', 'economy', 'dependent', 'ever', 'export', 'recent', 'recovery', '.', 'high', 'oil', 'price', 'knocked', '0.2', '%', 'growth', 'rate', ',', 'falling', 'dollar', 'mean', 'product', 'shipped', 'US', 'becoming', 'relatively', 'expensive', '.', 'performance', 'third', 'quarter', 'mark', 'sharp', 'downturn', 'earlier', 'year', '.', 'first', 'quarter', 'showed', 'annual', 'growth', '6.3', '%', ',', 'second', 'showing', '1.1', '%', ',', 'economist', 'predicting', 'much', '2', '%', 'time', 'around', '.', '``', 'Exports', 'slowed', 'capital', 'spending', 'became', 'weaker', ',', \"''\", 'said', 'Hiromichi', 'Shirakawa', ',', 'chief', 'economist', 'UBS', 'Securities', 'Tokyo', '.', '``', 'Personal', 'consumption', 'look', 'good', ',', 'mainly', 'due', 'temporary', 'factor', 'Olympics', '.', '``', 'amber', 'light', 'flashing', '.', \"''\", 'government', 'may', 'find', 'difficult', 'raise', 'tax', ',', 'policy', 'implement', 'economy', 'pick', 'help', 'deal', 'Japan', \"'s\", 'massive', 'public', 'debt', '.']\n"
          ]
        }
      ]
    },
    {
      "cell_type": "code",
      "source": [
        "# POS Tagging\n",
        "pos_tags = pos_tag(stemmed_words)\n",
        "print(pos_tags)"
      ],
      "metadata": {
        "colab": {
          "base_uri": "https://localhost:8080/"
        },
        "id": "84lO3D8ef5O2",
        "outputId": "512d5365-e280-46dc-ff9b-3c85b52f9fff"
      },
      "execution_count": 42,
      "outputs": [
        {
          "output_type": "stream",
          "name": "stdout",
          "text": [
            "[('govern', 'NN'), ('may', 'MD'), ('find', 'VB'), ('difficult', 'JJ'), ('rais', 'JJ'), ('tax', 'NN'), (',', ','), ('polici', 'VB'), ('implement', 'JJ'), ('economi', 'NN'), ('pick', 'NN'), ('help', 'NN'), ('deal', 'VB'), ('japan', 'NN'), (\"'s\", 'POS'), ('massiv', 'JJ'), ('public', 'JJ'), ('debt', 'NN'), ('.', '.')]\n"
          ]
        }
      ]
    },
    {
      "cell_type": "code",
      "source": [
        "preprocessed_text = ' '.join(lemmatized_text)\n",
        "with open('preprocessed_text.txt', 'w') as f:\n",
        "    f.write(preprocessed_text)"
      ],
      "metadata": {
        "id": "L_vTzzRDik03"
      },
      "execution_count": 49,
      "outputs": []
    }
  ]
}