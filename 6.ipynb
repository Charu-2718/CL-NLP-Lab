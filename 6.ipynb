{
 "cells": [
  {
   "cell_type": "code",
   "execution_count": 1,
   "id": "3a5cc472",
   "metadata": {
    "_cell_guid": "b1076dfc-b9ad-4769-8c92-a6c4dae69d19",
    "_uuid": "8f2839f25d086af736a60e9eeb907d3b93b6e0e5",
    "execution": {
     "iopub.execute_input": "2023-07-07T06:42:16.025681Z",
     "iopub.status.busy": "2023-07-07T06:42:16.025030Z",
     "iopub.status.idle": "2023-07-07T06:42:16.045140Z",
     "shell.execute_reply": "2023-07-07T06:42:16.044273Z"
    },
    "papermill": {
     "duration": 0.029432,
     "end_time": "2023-07-07T06:42:16.047123",
     "exception": false,
     "start_time": "2023-07-07T06:42:16.017691",
     "status": "completed"
    },
    "tags": []
   },
   "outputs": [
    {
     "name": "stdout",
     "output_type": "stream",
     "text": [
      "/kaggle/input/emotions-dataset-for-nlp/val.txt\n",
      "/kaggle/input/emotions-dataset-for-nlp/test.txt\n",
      "/kaggle/input/emotions-dataset-for-nlp/train.txt\n"
     ]
    }
   ],
   "source": [
    "# This Python 3 environment comes with many helpful analytics libraries installed\n",
    "# It is defined by the kaggle/python Docker image: https://github.com/kaggle/docker-python\n",
    "# For example, here's several helpful packages to load\n",
    "\n",
    "import numpy as np # linear algebra\n",
    "import pandas as pd # data processing, CSV file I/O (e.g. pd.read_csv)\n",
    "\n",
    "# Input data files are available in the read-only \"../input/\" directory\n",
    "# For example, running this (by clicking run or pressing Shift+Enter) will list all files under the input directory\n",
    "\n",
    "import os\n",
    "for dirname, _, filenames in os.walk('/kaggle/input'):\n",
    "    for filename in filenames:\n",
    "        print(os.path.join(dirname, filename))\n",
    "\n",
    "# You can write up to 20GB to the current directory (/kaggle/working/) that gets preserved as output when you create a version using \"Save & Run All\" \n",
    "# You can also write temporary files to /kaggle/temp/, but they won't be saved outside of the current session"
   ]
  },
  {
   "cell_type": "code",
   "execution_count": 2,
   "id": "a541a8cc",
   "metadata": {
    "execution": {
     "iopub.execute_input": "2023-07-07T06:42:16.057483Z",
     "iopub.status.busy": "2023-07-07T06:42:16.057150Z",
     "iopub.status.idle": "2023-07-07T06:42:16.162048Z",
     "shell.execute_reply": "2023-07-07T06:42:16.161178Z"
    },
    "papermill": {
     "duration": 0.112185,
     "end_time": "2023-07-07T06:42:16.163872",
     "exception": false,
     "start_time": "2023-07-07T06:42:16.051687",
     "status": "completed"
    },
    "tags": []
   },
   "outputs": [
    {
     "data": {
      "text/html": [
       "<div>\n",
       "<style scoped>\n",
       "    .dataframe tbody tr th:only-of-type {\n",
       "        vertical-align: middle;\n",
       "    }\n",
       "\n",
       "    .dataframe tbody tr th {\n",
       "        vertical-align: top;\n",
       "    }\n",
       "\n",
       "    .dataframe thead th {\n",
       "        text-align: right;\n",
       "    }\n",
       "</style>\n",
       "<table border=\"1\" class=\"dataframe\">\n",
       "  <thead>\n",
       "    <tr style=\"text-align: right;\">\n",
       "      <th></th>\n",
       "      <th>Description</th>\n",
       "      <th>Emotion</th>\n",
       "    </tr>\n",
       "  </thead>\n",
       "  <tbody>\n",
       "    <tr>\n",
       "      <th>0</th>\n",
       "      <td>i didnt feel humiliated</td>\n",
       "      <td>sadness</td>\n",
       "    </tr>\n",
       "    <tr>\n",
       "      <th>1</th>\n",
       "      <td>i can go from feeling so hopeless to so damned...</td>\n",
       "      <td>sadness</td>\n",
       "    </tr>\n",
       "    <tr>\n",
       "      <th>2</th>\n",
       "      <td>im grabbing a minute to post i feel greedy wrong</td>\n",
       "      <td>anger</td>\n",
       "    </tr>\n",
       "    <tr>\n",
       "      <th>3</th>\n",
       "      <td>i am ever feeling nostalgic about the fireplac...</td>\n",
       "      <td>love</td>\n",
       "    </tr>\n",
       "    <tr>\n",
       "      <th>4</th>\n",
       "      <td>i am feeling grouchy</td>\n",
       "      <td>anger</td>\n",
       "    </tr>\n",
       "  </tbody>\n",
       "</table>\n",
       "</div>"
      ],
      "text/plain": [
       "                                         Description  Emotion\n",
       "0                            i didnt feel humiliated  sadness\n",
       "1  i can go from feeling so hopeless to so damned...  sadness\n",
       "2   im grabbing a minute to post i feel greedy wrong    anger\n",
       "3  i am ever feeling nostalgic about the fireplac...     love\n",
       "4                               i am feeling grouchy    anger"
      ]
     },
     "execution_count": 2,
     "metadata": {},
     "output_type": "execute_result"
    }
   ],
   "source": [
    "df = pd.read_csv(\"/kaggle/input/emotions-dataset-for-nlp/train.txt\",sep=\";\",\n",
    "    names=[\"Description\",\"Emotion\"])\n",
    "df.head(5)"
   ]
  },
  {
   "cell_type": "code",
   "execution_count": 3,
   "id": "b2b3c312",
   "metadata": {
    "execution": {
     "iopub.execute_input": "2023-07-07T06:42:16.174427Z",
     "iopub.status.busy": "2023-07-07T06:42:16.173884Z",
     "iopub.status.idle": "2023-07-07T06:42:16.186664Z",
     "shell.execute_reply": "2023-07-07T06:42:16.185817Z"
    },
    "papermill": {
     "duration": 0.019923,
     "end_time": "2023-07-07T06:42:16.188381",
     "exception": false,
     "start_time": "2023-07-07T06:42:16.168458",
     "status": "completed"
    },
    "tags": []
   },
   "outputs": [
    {
     "data": {
      "text/plain": [
       "joy         5362\n",
       "sadness     4666\n",
       "anger       2159\n",
       "fear        1937\n",
       "love        1304\n",
       "surprise     572\n",
       "Name: Emotion, dtype: int64"
      ]
     },
     "execution_count": 3,
     "metadata": {},
     "output_type": "execute_result"
    }
   ],
   "source": [
    "df['Emotion'].value_counts()"
   ]
  },
  {
   "cell_type": "code",
   "execution_count": 4,
   "id": "571504e2",
   "metadata": {
    "execution": {
     "iopub.execute_input": "2023-07-07T06:42:16.198841Z",
     "iopub.status.busy": "2023-07-07T06:42:16.198195Z",
     "iopub.status.idle": "2023-07-07T06:42:16.215164Z",
     "shell.execute_reply": "2023-07-07T06:42:16.214023Z"
    },
    "papermill": {
     "duration": 0.02422,
     "end_time": "2023-07-07T06:42:16.217145",
     "exception": false,
     "start_time": "2023-07-07T06:42:16.192925",
     "status": "completed"
    },
    "tags": []
   },
   "outputs": [
    {
     "data": {
      "text/html": [
       "<div>\n",
       "<style scoped>\n",
       "    .dataframe tbody tr th:only-of-type {\n",
       "        vertical-align: middle;\n",
       "    }\n",
       "\n",
       "    .dataframe tbody tr th {\n",
       "        vertical-align: top;\n",
       "    }\n",
       "\n",
       "    .dataframe thead th {\n",
       "        text-align: right;\n",
       "    }\n",
       "</style>\n",
       "<table border=\"1\" class=\"dataframe\">\n",
       "  <thead>\n",
       "    <tr style=\"text-align: right;\">\n",
       "      <th></th>\n",
       "      <th>Description</th>\n",
       "      <th>Emotion</th>\n",
       "      <th>label_num</th>\n",
       "    </tr>\n",
       "  </thead>\n",
       "  <tbody>\n",
       "    <tr>\n",
       "      <th>0</th>\n",
       "      <td>i didnt feel humiliated</td>\n",
       "      <td>sadness</td>\n",
       "      <td>1</td>\n",
       "    </tr>\n",
       "    <tr>\n",
       "      <th>1</th>\n",
       "      <td>i can go from feeling so hopeless to so damned...</td>\n",
       "      <td>sadness</td>\n",
       "      <td>1</td>\n",
       "    </tr>\n",
       "    <tr>\n",
       "      <th>2</th>\n",
       "      <td>im grabbing a minute to post i feel greedy wrong</td>\n",
       "      <td>anger</td>\n",
       "      <td>2</td>\n",
       "    </tr>\n",
       "    <tr>\n",
       "      <th>3</th>\n",
       "      <td>i am ever feeling nostalgic about the fireplac...</td>\n",
       "      <td>love</td>\n",
       "      <td>4</td>\n",
       "    </tr>\n",
       "    <tr>\n",
       "      <th>4</th>\n",
       "      <td>i am feeling grouchy</td>\n",
       "      <td>anger</td>\n",
       "      <td>2</td>\n",
       "    </tr>\n",
       "  </tbody>\n",
       "</table>\n",
       "</div>"
      ],
      "text/plain": [
       "                                         Description  Emotion  label_num\n",
       "0                            i didnt feel humiliated  sadness          1\n",
       "1  i can go from feeling so hopeless to so damned...  sadness          1\n",
       "2   im grabbing a minute to post i feel greedy wrong    anger          2\n",
       "3  i am ever feeling nostalgic about the fireplac...     love          4\n",
       "4                               i am feeling grouchy    anger          2"
      ]
     },
     "execution_count": 4,
     "metadata": {},
     "output_type": "execute_result"
    }
   ],
   "source": [
    "df['label_num'] = df['Emotion'].map({\n",
    "    'joy' : 0, \n",
    "    'sadness': 1, \n",
    "    'anger': 2, \n",
    "    'fear': 3,\n",
    "    'love': 4,\n",
    "    'surprise':5\n",
    "})\n",
    "\n",
    "\n",
    "df.head(5)"
   ]
  },
  {
   "cell_type": "code",
   "execution_count": 5,
   "id": "a41ae602",
   "metadata": {
    "execution": {
     "iopub.execute_input": "2023-07-07T06:42:16.229197Z",
     "iopub.status.busy": "2023-07-07T06:42:16.228902Z",
     "iopub.status.idle": "2023-07-07T06:42:17.518034Z",
     "shell.execute_reply": "2023-07-07T06:42:17.516354Z"
    },
    "papermill": {
     "duration": 1.298545,
     "end_time": "2023-07-07T06:42:17.520421",
     "exception": false,
     "start_time": "2023-07-07T06:42:16.221876",
     "status": "completed"
    },
    "tags": []
   },
   "outputs": [],
   "source": [
    "from sklearn.model_selection import train_test_split\n",
    "X_train,X_test,y_train,y_test = train_test_split(df.Description,df.label_num,test_size=0.2)"
   ]
  },
  {
   "cell_type": "code",
   "execution_count": 6,
   "id": "1443e819",
   "metadata": {
    "execution": {
     "iopub.execute_input": "2023-07-07T06:42:17.532074Z",
     "iopub.status.busy": "2023-07-07T06:42:17.531195Z",
     "iopub.status.idle": "2023-07-07T06:42:17.536413Z",
     "shell.execute_reply": "2023-07-07T06:42:17.535615Z"
    },
    "papermill": {
     "duration": 0.01272,
     "end_time": "2023-07-07T06:42:17.538277",
     "exception": false,
     "start_time": "2023-07-07T06:42:17.525557",
     "status": "completed"
    },
    "tags": []
   },
   "outputs": [
    {
     "name": "stdout",
     "output_type": "stream",
     "text": [
      "Shape of X_train:  (12800,)\n",
      "Shape of X_test:  (3200,)\n"
     ]
    }
   ],
   "source": [
    "print(\"Shape of X_train: \", X_train.shape)\n",
    "print(\"Shape of X_test: \", X_test.shape)"
   ]
  },
  {
   "cell_type": "code",
   "execution_count": 7,
   "id": "3e66f937",
   "metadata": {
    "execution": {
     "iopub.execute_input": "2023-07-07T06:42:17.550426Z",
     "iopub.status.busy": "2023-07-07T06:42:17.549658Z",
     "iopub.status.idle": "2023-07-07T06:42:17.559303Z",
     "shell.execute_reply": "2023-07-07T06:42:17.558510Z"
    },
    "papermill": {
     "duration": 0.018317,
     "end_time": "2023-07-07T06:42:17.561697",
     "exception": false,
     "start_time": "2023-07-07T06:42:17.543380",
     "status": "completed"
    },
    "tags": []
   },
   "outputs": [
    {
     "data": {
      "text/plain": [
       "0    4292\n",
       "1    3714\n",
       "2    1723\n",
       "3    1563\n",
       "4    1049\n",
       "5     459\n",
       "Name: label_num, dtype: int64"
      ]
     },
     "execution_count": 7,
     "metadata": {},
     "output_type": "execute_result"
    }
   ],
   "source": [
    "y_train.value_counts()"
   ]
  },
  {
   "cell_type": "code",
   "execution_count": 8,
   "id": "c30a1a3d",
   "metadata": {
    "execution": {
     "iopub.execute_input": "2023-07-07T06:42:17.575297Z",
     "iopub.status.busy": "2023-07-07T06:42:17.574337Z",
     "iopub.status.idle": "2023-07-07T06:42:22.465195Z",
     "shell.execute_reply": "2023-07-07T06:42:22.463846Z"
    },
    "papermill": {
     "duration": 4.899677,
     "end_time": "2023-07-07T06:42:22.467067",
     "exception": false,
     "start_time": "2023-07-07T06:42:17.567390",
     "status": "completed"
    },
    "tags": []
   },
   "outputs": [
    {
     "name": "stdout",
     "output_type": "stream",
     "text": [
      "              precision    recall  f1-score   support\n",
      "\n",
      "           0       0.66      0.86      0.75      1070\n",
      "           1       0.73      0.79      0.76       952\n",
      "           2       0.80      0.55      0.65       436\n",
      "           3       0.74      0.55      0.63       374\n",
      "           4       0.74      0.44      0.55       255\n",
      "           5       0.61      0.27      0.38       113\n",
      "\n",
      "    accuracy                           0.71      3200\n",
      "   macro avg       0.71      0.58      0.62      3200\n",
      "weighted avg       0.71      0.71      0.70      3200\n",
      "\n"
     ]
    }
   ],
   "source": [
    "\n",
    "from sklearn.neighbors import KNeighborsClassifier\n",
    "from sklearn.pipeline import Pipeline\n",
    "from sklearn.metrics import classification_report\n",
    "from sklearn.feature_extraction.text import TfidfVectorizer\n",
    "\n",
    "#1. create a pipeline object\n",
    "clf = Pipeline([\n",
    "     ('vectorizer_tfidf',TfidfVectorizer()),    \n",
    "     ('KNN', KNeighborsClassifier())         \n",
    "])\n",
    "\n",
    "#2. fit with X_train and y_train\n",
    "clf.fit(X_train, y_train)\n",
    "\n",
    "\n",
    "#3. get the predictions for X_test and store it in y_pred\n",
    "y_pred = clf.predict(X_test)\n",
    "\n",
    "\n",
    "#4. print the classfication report\n",
    "print(classification_report(y_test, y_pred))"
   ]
  },
  {
   "cell_type": "code",
   "execution_count": 9,
   "id": "98b91e8f",
   "metadata": {
    "execution": {
     "iopub.execute_input": "2023-07-07T06:42:22.478226Z",
     "iopub.status.busy": "2023-07-07T06:42:22.477916Z",
     "iopub.status.idle": "2023-07-07T06:42:35.478764Z",
     "shell.execute_reply": "2023-07-07T06:42:35.477755Z"
    },
    "papermill": {
     "duration": 13.008857,
     "end_time": "2023-07-07T06:42:35.480926",
     "exception": false,
     "start_time": "2023-07-07T06:42:22.472069",
     "status": "completed"
    },
    "tags": []
   },
   "outputs": [
    {
     "name": "stderr",
     "output_type": "stream",
     "text": [
      "/opt/conda/lib/python3.10/site-packages/tensorflow_io/python/ops/__init__.py:98: UserWarning: unable to load libtensorflow_io_plugins.so: unable to open file: libtensorflow_io_plugins.so, from paths: ['/opt/conda/lib/python3.10/site-packages/tensorflow_io/python/ops/libtensorflow_io_plugins.so']\n",
      "caused by: ['/opt/conda/lib/python3.10/site-packages/tensorflow_io/python/ops/libtensorflow_io_plugins.so: undefined symbol: _ZN3tsl6StatusC1EN10tensorflow5error4CodeESt17basic_string_viewIcSt11char_traitsIcEENS_14SourceLocationE']\n",
      "  warnings.warn(f\"unable to load libtensorflow_io_plugins.so: {e}\")\n",
      "/opt/conda/lib/python3.10/site-packages/tensorflow_io/python/ops/__init__.py:104: UserWarning: file system plugins are not loaded: unable to open file: libtensorflow_io.so, from paths: ['/opt/conda/lib/python3.10/site-packages/tensorflow_io/python/ops/libtensorflow_io.so']\n",
      "caused by: ['/opt/conda/lib/python3.10/site-packages/tensorflow_io/python/ops/libtensorflow_io.so: undefined symbol: _ZTVN10tensorflow13GcsFileSystemE']\n",
      "  warnings.warn(f\"file system plugins are not loaded: {e}\")\n"
     ]
    }
   ],
   "source": [
    "import spacy"
   ]
  },
  {
   "cell_type": "code",
   "execution_count": 10,
   "id": "6cb26b88",
   "metadata": {
    "execution": {
     "iopub.execute_input": "2023-07-07T06:42:35.492973Z",
     "iopub.status.busy": "2023-07-07T06:42:35.492268Z",
     "iopub.status.idle": "2023-07-07T06:42:36.331491Z",
     "shell.execute_reply": "2023-07-07T06:42:36.330603Z"
    },
    "papermill": {
     "duration": 0.847639,
     "end_time": "2023-07-07T06:42:36.333830",
     "exception": false,
     "start_time": "2023-07-07T06:42:35.486191",
     "status": "completed"
    },
    "tags": []
   },
   "outputs": [],
   "source": [
    "nlp = spacy.load(\"en_core_web_sm\")"
   ]
  },
  {
   "cell_type": "code",
   "execution_count": 11,
   "id": "358acf34",
   "metadata": {
    "execution": {
     "iopub.execute_input": "2023-07-07T06:42:36.345654Z",
     "iopub.status.busy": "2023-07-07T06:42:36.345248Z",
     "iopub.status.idle": "2023-07-07T06:42:36.350096Z",
     "shell.execute_reply": "2023-07-07T06:42:36.349217Z"
    },
    "papermill": {
     "duration": 0.013024,
     "end_time": "2023-07-07T06:42:36.351974",
     "exception": false,
     "start_time": "2023-07-07T06:42:36.338950",
     "status": "completed"
    },
    "tags": []
   },
   "outputs": [],
   "source": [
    "def preprocess(text):\n",
    "    doc = nlp(text)\n",
    "    filtered_tokens = []\n",
    "    for token in doc:\n",
    "        if token.is_stop or token.is_punct:\n",
    "            continue\n",
    "        else:\n",
    "            filtered_tokens.append(token.lemma_)\n",
    "    return \" \".join(filtered_tokens)\n",
    "# convert it into one sentence without stop words and punctuations(.,-) and also with the base words."
   ]
  },
  {
   "cell_type": "code",
   "execution_count": 12,
   "id": "1a1375b6",
   "metadata": {
    "execution": {
     "iopub.execute_input": "2023-07-07T06:42:36.364363Z",
     "iopub.status.busy": "2023-07-07T06:42:36.364018Z",
     "iopub.status.idle": "2023-07-07T06:44:15.745513Z",
     "shell.execute_reply": "2023-07-07T06:44:15.744591Z"
    },
    "papermill": {
     "duration": 99.39047,
     "end_time": "2023-07-07T06:44:15.747949",
     "exception": false,
     "start_time": "2023-07-07T06:42:36.357479",
     "status": "completed"
    },
    "tags": []
   },
   "outputs": [],
   "source": [
    "df['processed_text'] = df[\"Description\"].apply(preprocess)"
   ]
  },
  {
   "cell_type": "code",
   "execution_count": 13,
   "id": "917f690e",
   "metadata": {
    "execution": {
     "iopub.execute_input": "2023-07-07T06:44:15.759980Z",
     "iopub.status.busy": "2023-07-07T06:44:15.759607Z",
     "iopub.status.idle": "2023-07-07T06:44:15.771018Z",
     "shell.execute_reply": "2023-07-07T06:44:15.770095Z"
    },
    "papermill": {
     "duration": 0.019542,
     "end_time": "2023-07-07T06:44:15.772723",
     "exception": false,
     "start_time": "2023-07-07T06:44:15.753181",
     "status": "completed"
    },
    "tags": []
   },
   "outputs": [
    {
     "data": {
      "text/html": [
       "<div>\n",
       "<style scoped>\n",
       "    .dataframe tbody tr th:only-of-type {\n",
       "        vertical-align: middle;\n",
       "    }\n",
       "\n",
       "    .dataframe tbody tr th {\n",
       "        vertical-align: top;\n",
       "    }\n",
       "\n",
       "    .dataframe thead th {\n",
       "        text-align: right;\n",
       "    }\n",
       "</style>\n",
       "<table border=\"1\" class=\"dataframe\">\n",
       "  <thead>\n",
       "    <tr style=\"text-align: right;\">\n",
       "      <th></th>\n",
       "      <th>Description</th>\n",
       "      <th>Emotion</th>\n",
       "      <th>label_num</th>\n",
       "      <th>processed_text</th>\n",
       "    </tr>\n",
       "  </thead>\n",
       "  <tbody>\n",
       "    <tr>\n",
       "      <th>0</th>\n",
       "      <td>i didnt feel humiliated</td>\n",
       "      <td>sadness</td>\n",
       "      <td>1</td>\n",
       "      <td>not feel humiliate</td>\n",
       "    </tr>\n",
       "    <tr>\n",
       "      <th>1</th>\n",
       "      <td>i can go from feeling so hopeless to so damned...</td>\n",
       "      <td>sadness</td>\n",
       "      <td>1</td>\n",
       "      <td>feel hopeless damned hopeful care awake</td>\n",
       "    </tr>\n",
       "    <tr>\n",
       "      <th>2</th>\n",
       "      <td>im grabbing a minute to post i feel greedy wrong</td>\n",
       "      <td>anger</td>\n",
       "      <td>2</td>\n",
       "      <td>m grab minute post feel greedy wrong</td>\n",
       "    </tr>\n",
       "    <tr>\n",
       "      <th>3</th>\n",
       "      <td>i am ever feeling nostalgic about the fireplac...</td>\n",
       "      <td>love</td>\n",
       "      <td>4</td>\n",
       "      <td>feel nostalgic fireplace know property</td>\n",
       "    </tr>\n",
       "    <tr>\n",
       "      <th>4</th>\n",
       "      <td>i am feeling grouchy</td>\n",
       "      <td>anger</td>\n",
       "      <td>2</td>\n",
       "      <td>feel grouchy</td>\n",
       "    </tr>\n",
       "    <tr>\n",
       "      <th>...</th>\n",
       "      <td>...</td>\n",
       "      <td>...</td>\n",
       "      <td>...</td>\n",
       "      <td>...</td>\n",
       "    </tr>\n",
       "    <tr>\n",
       "      <th>15995</th>\n",
       "      <td>i just had a very brief time in the beanbag an...</td>\n",
       "      <td>sadness</td>\n",
       "      <td>1</td>\n",
       "      <td>brief time beanbag say anna feel like beat</td>\n",
       "    </tr>\n",
       "    <tr>\n",
       "      <th>15996</th>\n",
       "      <td>i am now turning and i feel pathetic that i am...</td>\n",
       "      <td>sadness</td>\n",
       "      <td>1</td>\n",
       "      <td>turn feel pathetic wait table sub teaching degree</td>\n",
       "    </tr>\n",
       "    <tr>\n",
       "      <th>15997</th>\n",
       "      <td>i feel strong and good overall</td>\n",
       "      <td>joy</td>\n",
       "      <td>0</td>\n",
       "      <td>feel strong good overall</td>\n",
       "    </tr>\n",
       "    <tr>\n",
       "      <th>15998</th>\n",
       "      <td>i feel like this was such a rude comment and i...</td>\n",
       "      <td>anger</td>\n",
       "      <td>2</td>\n",
       "      <td>feel like rude comment m glad t</td>\n",
       "    </tr>\n",
       "    <tr>\n",
       "      <th>15999</th>\n",
       "      <td>i know a lot but i feel so stupid because i ca...</td>\n",
       "      <td>sadness</td>\n",
       "      <td>1</td>\n",
       "      <td>know lot feel stupid portray</td>\n",
       "    </tr>\n",
       "  </tbody>\n",
       "</table>\n",
       "<p>16000 rows × 4 columns</p>\n",
       "</div>"
      ],
      "text/plain": [
       "                                             Description  Emotion  label_num  \\\n",
       "0                                i didnt feel humiliated  sadness          1   \n",
       "1      i can go from feeling so hopeless to so damned...  sadness          1   \n",
       "2       im grabbing a minute to post i feel greedy wrong    anger          2   \n",
       "3      i am ever feeling nostalgic about the fireplac...     love          4   \n",
       "4                                   i am feeling grouchy    anger          2   \n",
       "...                                                  ...      ...        ...   \n",
       "15995  i just had a very brief time in the beanbag an...  sadness          1   \n",
       "15996  i am now turning and i feel pathetic that i am...  sadness          1   \n",
       "15997                     i feel strong and good overall      joy          0   \n",
       "15998  i feel like this was such a rude comment and i...    anger          2   \n",
       "15999  i know a lot but i feel so stupid because i ca...  sadness          1   \n",
       "\n",
       "                                          processed_text  \n",
       "0                                     not feel humiliate  \n",
       "1                feel hopeless damned hopeful care awake  \n",
       "2                   m grab minute post feel greedy wrong  \n",
       "3                 feel nostalgic fireplace know property  \n",
       "4                                           feel grouchy  \n",
       "...                                                  ...  \n",
       "15995         brief time beanbag say anna feel like beat  \n",
       "15996  turn feel pathetic wait table sub teaching degree  \n",
       "15997                           feel strong good overall  \n",
       "15998                    feel like rude comment m glad t  \n",
       "15999                       know lot feel stupid portray  \n",
       "\n",
       "[16000 rows x 4 columns]"
      ]
     },
     "execution_count": 13,
     "metadata": {},
     "output_type": "execute_result"
    }
   ],
   "source": [
    "df"
   ]
  },
  {
   "cell_type": "code",
   "execution_count": 14,
   "id": "3dcec11e",
   "metadata": {
    "execution": {
     "iopub.execute_input": "2023-07-07T06:44:15.785281Z",
     "iopub.status.busy": "2023-07-07T06:44:15.784941Z",
     "iopub.status.idle": "2023-07-07T06:44:15.796365Z",
     "shell.execute_reply": "2023-07-07T06:44:15.795621Z"
    },
    "papermill": {
     "duration": 0.020172,
     "end_time": "2023-07-07T06:44:15.798315",
     "exception": false,
     "start_time": "2023-07-07T06:44:15.778143",
     "status": "completed"
    },
    "tags": []
   },
   "outputs": [],
   "source": [
    "X_train, X_test, y_train, y_test = train_test_split(\n",
    "    df.processed_text, \n",
    "    df.label_num,\n",
    "    test_size=0.2, # 20% samples will go to test dataset\n",
    "    random_state=2022,\n",
    "    stratify=df.label_num\n",
    ")"
   ]
  },
  {
   "cell_type": "code",
   "execution_count": 15,
   "id": "8aebe780",
   "metadata": {
    "execution": {
     "iopub.execute_input": "2023-07-07T06:44:15.810467Z",
     "iopub.status.busy": "2023-07-07T06:44:15.810112Z",
     "iopub.status.idle": "2023-07-07T06:44:17.053721Z",
     "shell.execute_reply": "2023-07-07T06:44:17.052262Z"
    },
    "papermill": {
     "duration": 1.252424,
     "end_time": "2023-07-07T06:44:17.056231",
     "exception": false,
     "start_time": "2023-07-07T06:44:15.803807",
     "status": "completed"
    },
    "tags": []
   },
   "outputs": [
    {
     "name": "stdout",
     "output_type": "stream",
     "text": [
      "              precision    recall  f1-score   support\n",
      "\n",
      "           0       0.77      0.86      0.82      1072\n",
      "           1       0.78      0.84      0.81       933\n",
      "           2       0.80      0.77      0.79       432\n",
      "           3       0.84      0.69      0.76       387\n",
      "           4       0.73      0.50      0.60       261\n",
      "           5       0.73      0.57      0.64       115\n",
      "\n",
      "    accuracy                           0.78      3200\n",
      "   macro avg       0.78      0.71      0.74      3200\n",
      "weighted avg       0.78      0.78      0.78      3200\n",
      "\n"
     ]
    }
   ],
   "source": [
    "from sklearn.neighbors import KNeighborsClassifier\n",
    "clf = Pipeline([\n",
    "     ('vectorizer_tfidf',TfidfVectorizer()),        #using the ngram_range parameter \n",
    "     ('KNN', KNeighborsClassifier())         \n",
    "])\n",
    "\n",
    "#2. fit with X_train and y_train\n",
    "clf.fit(X_train, y_train)\n",
    "\n",
    "\n",
    "#3. get the predictions for X_test and store it in y_pred\n",
    "y_pred = clf.predict(X_test)\n",
    "\n",
    "\n",
    "#4. print the classfication report\n",
    "print(classification_report(y_test, y_pred))"
   ]
  },
  {
   "cell_type": "code",
   "execution_count": 16,
   "id": "bb050dd4",
   "metadata": {
    "execution": {
     "iopub.execute_input": "2023-07-07T06:44:17.069132Z",
     "iopub.status.busy": "2023-07-07T06:44:17.068795Z",
     "iopub.status.idle": "2023-07-07T06:44:17.249760Z",
     "shell.execute_reply": "2023-07-07T06:44:17.248109Z"
    },
    "papermill": {
     "duration": 0.18986,
     "end_time": "2023-07-07T06:44:17.252139",
     "exception": false,
     "start_time": "2023-07-07T06:44:17.062279",
     "status": "completed"
    },
    "tags": []
   },
   "outputs": [
    {
     "name": "stdout",
     "output_type": "stream",
     "text": [
      "              precision    recall  f1-score   support\n",
      "\n",
      "           0       0.64      0.97      0.77      1072\n",
      "           1       0.69      0.93      0.79       933\n",
      "           2       0.93      0.38      0.53       432\n",
      "           3       0.91      0.32      0.48       387\n",
      "           4       1.00      0.08      0.14       261\n",
      "           5       1.00      0.01      0.02       115\n",
      "\n",
      "    accuracy                           0.69      3200\n",
      "   macro avg       0.86      0.45      0.46      3200\n",
      "weighted avg       0.77      0.69      0.63      3200\n",
      "\n"
     ]
    }
   ],
   "source": [
    "from sklearn.naive_bayes import MultinomialNB\n",
    "clf = Pipeline([\n",
    "     ('vectorizer_tfidf',TfidfVectorizer()),        #using the ngram_range parameter \n",
    "     ('Multi NB', MultinomialNB())          \n",
    "])\n",
    "\n",
    "#2. fit with X_train and y_train\n",
    "clf.fit(X_train, y_train)\n",
    "\n",
    "\n",
    "#3. get the predictions for X_test and store it in y_pred\n",
    "y_pred = clf.predict(X_test)\n",
    "\n",
    "\n",
    "#4. print the classfication report\n",
    "print(classification_report(y_test, y_pred))"
   ]
  },
  {
   "cell_type": "code",
   "execution_count": 17,
   "id": "ad114bbd",
   "metadata": {
    "execution": {
     "iopub.execute_input": "2023-07-07T06:44:17.265861Z",
     "iopub.status.busy": "2023-07-07T06:44:17.264311Z",
     "iopub.status.idle": "2023-07-07T06:44:31.491004Z",
     "shell.execute_reply": "2023-07-07T06:44:31.489655Z"
    },
    "papermill": {
     "duration": 14.235584,
     "end_time": "2023-07-07T06:44:31.493483",
     "exception": false,
     "start_time": "2023-07-07T06:44:17.257899",
     "status": "completed"
    },
    "tags": []
   },
   "outputs": [
    {
     "name": "stdout",
     "output_type": "stream",
     "text": [
      "              precision    recall  f1-score   support\n",
      "\n",
      "           0       0.83      0.91      0.87      1072\n",
      "           1       0.90      0.88      0.89       933\n",
      "           2       0.85      0.81      0.83       432\n",
      "           3       0.81      0.81      0.81       387\n",
      "           4       0.83      0.66      0.74       261\n",
      "           5       0.81      0.71      0.76       115\n",
      "\n",
      "    accuracy                           0.85      3200\n",
      "   macro avg       0.84      0.80      0.82      3200\n",
      "weighted avg       0.85      0.85      0.85      3200\n",
      "\n"
     ]
    }
   ],
   "source": [
    "from sklearn.ensemble import RandomForestClassifier\n",
    "clf = Pipeline([\n",
    "     ('vectorizer_tfidf',TfidfVectorizer()),        #using the ngram_range parameter \n",
    "     ('Random Forest', RandomForestClassifier())         \n",
    "])\n",
    "\n",
    "#2. fit with X_train and y_train\n",
    "clf.fit(X_train, y_train)\n",
    "\n",
    "\n",
    "#3. get the predictions for X_test and store it in y_pred\n",
    "y_pred = clf.predict(X_test)\n",
    "\n",
    "\n",
    "#4. print the classfication report\n",
    "print(classification_report(y_test, y_pred))"
   ]
  },
  {
   "cell_type": "code",
   "execution_count": 18,
   "id": "a21aa639",
   "metadata": {
    "execution": {
     "iopub.execute_input": "2023-07-07T06:44:31.505950Z",
     "iopub.status.busy": "2023-07-07T06:44:31.505618Z",
     "iopub.status.idle": "2023-07-07T06:44:31.514948Z",
     "shell.execute_reply": "2023-07-07T06:44:31.513864Z"
    },
    "papermill": {
     "duration": 0.018294,
     "end_time": "2023-07-07T06:44:31.517454",
     "exception": false,
     "start_time": "2023-07-07T06:44:31.499160",
     "status": "completed"
    },
    "tags": []
   },
   "outputs": [
    {
     "data": {
      "text/plain": [
       "array([[977,  29,  18,  14,  29,   5],\n",
       "       [ 54, 821,  26,  21,   7,   4],\n",
       "       [ 39,  27, 350,  16,   0,   0],\n",
       "       [ 21,  28,  13, 315,   0,  10],\n",
       "       [ 75,   6,   5,   2, 173,   0],\n",
       "       [ 12,   2,   0,  19,   0,  82]])"
      ]
     },
     "execution_count": 18,
     "metadata": {},
     "output_type": "execute_result"
    }
   ],
   "source": [
    "from sklearn.metrics import confusion_matrix\n",
    "cm = confusion_matrix(y_test, y_pred)\n",
    "cm"
   ]
  },
  {
   "cell_type": "code",
   "execution_count": 19,
   "id": "7a3e5586",
   "metadata": {
    "execution": {
     "iopub.execute_input": "2023-07-07T06:44:31.531661Z",
     "iopub.status.busy": "2023-07-07T06:44:31.531335Z",
     "iopub.status.idle": "2023-07-07T06:44:32.187428Z",
     "shell.execute_reply": "2023-07-07T06:44:32.186623Z"
    },
    "papermill": {
     "duration": 0.665669,
     "end_time": "2023-07-07T06:44:32.189386",
     "exception": false,
     "start_time": "2023-07-07T06:44:31.523717",
     "status": "completed"
    },
    "tags": []
   },
   "outputs": [
    {
     "data": {
      "text/plain": [
       "Text(95.72222222222221, 0.5, 'Truth')"
      ]
     },
     "execution_count": 19,
     "metadata": {},
     "output_type": "execute_result"
    },
    {
     "data": {
      "image/png": "[encoded data removed]",
      "text/plain": [
       "<Figure size 1000x700 with 2 Axes>"
      ]
     },
     "metadata": {},
     "output_type": "display_data"
    }
   ],
   "source": [
    "from matplotlib import pyplot as plt\n",
    "import seaborn as sn\n",
    "plt.figure(figsize = (10,7))\n",
    "sn.heatmap(cm, annot=True, fmt='d')\n",
    "plt.xlabel('Prediction')\n",
    "plt.ylabel('Truth')"
   ]
  }
 ],
 "metadata": {
  "kernelspec": {
   "display_name": "Python 3",
   "language": "python",
   "name": "python3"
  },
  "language_info": {
   "codemirror_mode": {
    "name": "ipython",
    "version": 3
   },
   "file_extension": ".py",
   "mimetype": "text/x-python",
   "name": "python",
   "nbconvert_exporter": "python",
   "pygments_lexer": "ipython3",
   "version": "3.10.10"
  },
  "papermill": {
   "default_parameters": {},
   "duration": 148.409806,
   "end_time": "2023-07-07T06:44:35.570234",
   "environment_variables": {},
   "exception": null,
   "input_path": "__notebook__.ipynb",
   "output_path": "__notebook__.ipynb",
   "parameters": {},
   "start_time": "2023-07-07T06:42:07.160428",
   "version": "2.4.0"
  }
 },
 "nbformat": 4,
 "nbformat_minor": 5
}
